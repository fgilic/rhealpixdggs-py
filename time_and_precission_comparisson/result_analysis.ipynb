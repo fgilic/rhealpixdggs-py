{
 "cells": [
  {
   "cell_type": "code",
   "execution_count": 1,
   "id": "8962850d-2b14-42d4-b199-aea7a908146a",
   "metadata": {},
   "outputs": [],
   "source": [
    "import pandas as pd"
   ]
  },
  {
   "cell_type": "markdown",
   "id": "81b4a3f8-ae6d-4580-a10c-4cc43b85660f",
   "metadata": {},
   "source": [
    "Remove first line (outlier)"
   ]
  },
  {
   "cell_type": "code",
   "execution_count": 42,
   "id": "cc2f3229-4f16-4080-bc6c-ae8cd1a9e2c1",
   "metadata": {},
   "outputs": [],
   "source": [
    "results = pd.read_csv(\"results.csv\").iloc[1:]"
   ]
  },
  {
   "cell_type": "code",
   "execution_count": 43,
   "id": "48246a2d-db01-4f14-8cce-c71541469471",
   "metadata": {},
   "outputs": [
    {
     "data": {
      "text/html": [
       "<div>\n",
       "<style scoped>\n",
       "    .dataframe tbody tr th:only-of-type {\n",
       "        vertical-align: middle;\n",
       "    }\n",
       "\n",
       "    .dataframe tbody tr th {\n",
       "        vertical-align: top;\n",
       "    }\n",
       "\n",
       "    .dataframe thead th {\n",
       "        text-align: right;\n",
       "    }\n",
       "</style>\n",
       "<table border=\"1\" class=\"dataframe\">\n",
       "  <thead>\n",
       "    <tr style=\"text-align: right;\">\n",
       "      <th></th>\n",
       "      <th>Common latitude</th>\n",
       "      <th>Authalic (direct mpmath)</th>\n",
       "      <th>Authalic (OLD)</th>\n",
       "      <th>Authalic (NEW)</th>\n",
       "      <th>Diff (auth OLD - auth NEW) E-12</th>\n",
       "      <th>Diff (auth OLD - auth direct mpmath) E-12</th>\n",
       "      <th>Diff (auth NEW - auth direct mpmath) E-12</th>\n",
       "      <th>Authalic inverse (OLD)</th>\n",
       "      <th>Authalic inverse (NEW)</th>\n",
       "      <th>Diff (auth inv OLD - auth inv NEW) E-12</th>\n",
       "      <th>Diff (auth inv OLD - common) E-12</th>\n",
       "      <th>Diff (auth inv NEW - common) E-12</th>\n",
       "    </tr>\n",
       "  </thead>\n",
       "  <tbody>\n",
       "    <tr>\n",
       "      <th>1</th>\n",
       "      <td>-89.9</td>\n",
       "      <td>-89.899551</td>\n",
       "      <td>-89.899551</td>\n",
       "      <td>-89.899551</td>\n",
       "      <td>4.99</td>\n",
       "      <td>4.994308</td>\n",
       "      <td>0.004308</td>\n",
       "      <td>-89.9</td>\n",
       "      <td>-89.9</td>\n",
       "      <td>4.94</td>\n",
       "      <td>4.94</td>\n",
       "      <td>0.00</td>\n",
       "    </tr>\n",
       "    <tr>\n",
       "      <th>2</th>\n",
       "      <td>-89.8</td>\n",
       "      <td>-89.799103</td>\n",
       "      <td>-89.799103</td>\n",
       "      <td>-89.799103</td>\n",
       "      <td>0.21</td>\n",
       "      <td>0.221241</td>\n",
       "      <td>0.011241</td>\n",
       "      <td>-89.8</td>\n",
       "      <td>-89.8</td>\n",
       "      <td>9.90</td>\n",
       "      <td>9.90</td>\n",
       "      <td>0.00</td>\n",
       "    </tr>\n",
       "    <tr>\n",
       "      <th>3</th>\n",
       "      <td>-89.7</td>\n",
       "      <td>-89.698654</td>\n",
       "      <td>-89.698654</td>\n",
       "      <td>-89.698654</td>\n",
       "      <td>5.87</td>\n",
       "      <td>5.864896</td>\n",
       "      <td>-0.005104</td>\n",
       "      <td>-89.7</td>\n",
       "      <td>-89.7</td>\n",
       "      <td>14.82</td>\n",
       "      <td>14.85</td>\n",
       "      <td>0.03</td>\n",
       "    </tr>\n",
       "    <tr>\n",
       "      <th>4</th>\n",
       "      <td>-89.6</td>\n",
       "      <td>-89.598205</td>\n",
       "      <td>-89.598205</td>\n",
       "      <td>-89.598205</td>\n",
       "      <td>5.86</td>\n",
       "      <td>5.842299</td>\n",
       "      <td>-0.017701</td>\n",
       "      <td>-89.6</td>\n",
       "      <td>-89.6</td>\n",
       "      <td>19.78</td>\n",
       "      <td>19.80</td>\n",
       "      <td>0.02</td>\n",
       "    </tr>\n",
       "    <tr>\n",
       "      <th>5</th>\n",
       "      <td>-89.5</td>\n",
       "      <td>-89.497757</td>\n",
       "      <td>-89.497757</td>\n",
       "      <td>-89.497757</td>\n",
       "      <td>1.39</td>\n",
       "      <td>1.394887</td>\n",
       "      <td>0.004887</td>\n",
       "      <td>-89.5</td>\n",
       "      <td>-89.5</td>\n",
       "      <td>24.74</td>\n",
       "      <td>24.74</td>\n",
       "      <td>0.00</td>\n",
       "    </tr>\n",
       "  </tbody>\n",
       "</table>\n",
       "</div>"
      ],
      "text/plain": [
       "   Common latitude  Authalic (direct mpmath)  Authalic (OLD)  Authalic (NEW)  \\\n",
       "1            -89.9                -89.899551      -89.899551      -89.899551   \n",
       "2            -89.8                -89.799103      -89.799103      -89.799103   \n",
       "3            -89.7                -89.698654      -89.698654      -89.698654   \n",
       "4            -89.6                -89.598205      -89.598205      -89.598205   \n",
       "5            -89.5                -89.497757      -89.497757      -89.497757   \n",
       "\n",
       "   Diff (auth OLD - auth NEW) E-12  Diff (auth OLD - auth direct mpmath) E-12  \\\n",
       "1                             4.99                                   4.994308   \n",
       "2                             0.21                                   0.221241   \n",
       "3                             5.87                                   5.864896   \n",
       "4                             5.86                                   5.842299   \n",
       "5                             1.39                                   1.394887   \n",
       "\n",
       "   Diff (auth NEW - auth direct mpmath) E-12  Authalic inverse (OLD)  \\\n",
       "1                                   0.004308                   -89.9   \n",
       "2                                   0.011241                   -89.8   \n",
       "3                                  -0.005104                   -89.7   \n",
       "4                                  -0.017701                   -89.6   \n",
       "5                                   0.004887                   -89.5   \n",
       "\n",
       "   Authalic inverse (NEW)  Diff (auth inv OLD - auth inv NEW) E-12  \\\n",
       "1                   -89.9                                     4.94   \n",
       "2                   -89.8                                     9.90   \n",
       "3                   -89.7                                    14.82   \n",
       "4                   -89.6                                    19.78   \n",
       "5                   -89.5                                    24.74   \n",
       "\n",
       "   Diff (auth inv OLD - common) E-12  Diff (auth inv NEW - common) E-12  \n",
       "1                               4.94                               0.00  \n",
       "2                               9.90                               0.00  \n",
       "3                              14.85                               0.03  \n",
       "4                              19.80                               0.02  \n",
       "5                              24.74                               0.00  "
      ]
     },
     "execution_count": 43,
     "metadata": {},
     "output_type": "execute_result"
    }
   ],
   "source": [
    "results.head()"
   ]
  },
  {
   "cell_type": "code",
   "execution_count": 44,
   "id": "23efc399-ab25-4998-ba50-b3152ba54188",
   "metadata": {},
   "outputs": [
    {
     "data": {
      "text/plain": [
       "Common latitude                              1800\n",
       "Authalic (direct mpmath)                     1800\n",
       "Authalic (OLD)                               1800\n",
       "Authalic (NEW)                               1800\n",
       "Diff (auth OLD - auth NEW) E-12              1800\n",
       "Diff (auth OLD - auth direct mpmath) E-12    1800\n",
       "Diff (auth NEW - auth direct mpmath) E-12    1800\n",
       "Authalic inverse (OLD)                       1800\n",
       "Authalic inverse (NEW)                       1800\n",
       "Diff (auth inv OLD - auth inv NEW) E-12      1800\n",
       "Diff (auth inv OLD - common) E-12            1800\n",
       "Diff (auth inv NEW - common) E-12            1800\n",
       "dtype: int64"
      ]
     },
     "execution_count": 44,
     "metadata": {},
     "output_type": "execute_result"
    }
   ],
   "source": [
    "results.count()"
   ]
  },
  {
   "cell_type": "code",
   "execution_count": 45,
   "id": "b60bf068-5c82-4d7c-b91e-97e74a10f2b8",
   "metadata": {},
   "outputs": [],
   "source": [
    "diff_auth_old = results[\"Diff (auth OLD - auth direct mpmath) E-12\"].abs().describe()*100"
   ]
  },
  {
   "cell_type": "code",
   "execution_count": 46,
   "id": "e7e80ef3-50e4-474b-b3fb-384c07a02e4c",
   "metadata": {
    "scrolled": true
   },
   "outputs": [
    {
     "data": {
      "text/plain": [
       "count    180000.000000\n",
       "mean          7.434101\n",
       "std          34.770009\n",
       "min           0.000000\n",
       "25%           0.848580\n",
       "50%           1.852964\n",
       "75%           3.857033\n",
       "max         586.489557\n",
       "Name: Diff (auth OLD - auth direct mpmath) E-12, dtype: float64"
      ]
     },
     "execution_count": 46,
     "metadata": {},
     "output_type": "execute_result"
    }
   ],
   "source": [
    "diff_auth_old"
   ]
  },
  {
   "cell_type": "code",
   "execution_count": 47,
   "id": "7eced509-8afe-4fa6-af19-076de9aac2bd",
   "metadata": {},
   "outputs": [],
   "source": [
    "diff_auth_new = results[\"Diff (auth NEW - auth direct mpmath) E-12\"].abs().describe()*100"
   ]
  },
  {
   "cell_type": "code",
   "execution_count": 48,
   "id": "da569bba-5e51-41e5-952e-bcdac203637f",
   "metadata": {},
   "outputs": [
    {
     "data": {
      "text/plain": [
       "count    180000.000000\n",
       "mean          0.443438\n",
       "std           0.474428\n",
       "min           0.000000\n",
       "25%           0.097755\n",
       "50%           0.283397\n",
       "75%           0.627231\n",
       "max           2.846786\n",
       "Name: Diff (auth NEW - auth direct mpmath) E-12, dtype: float64"
      ]
     },
     "execution_count": 48,
     "metadata": {},
     "output_type": "execute_result"
    }
   ],
   "source": [
    "diff_auth_new"
   ]
  },
  {
   "cell_type": "code",
   "execution_count": 51,
   "id": "2bc29cc1-8d5d-47c8-ba92-0372a7a91edb",
   "metadata": {},
   "outputs": [
    {
     "data": {
      "text/plain": [
       "count      1.000000\n",
       "mean      16.764697\n",
       "std       73.288276\n",
       "min             NaN\n",
       "25%        8.680645\n",
       "50%        6.538404\n",
       "75%        6.149300\n",
       "max      206.018156\n",
       "dtype: float64"
      ]
     },
     "execution_count": 51,
     "metadata": {},
     "output_type": "execute_result"
    }
   ],
   "source": [
    "diff_auth_old/diff_auth_new"
   ]
  },
  {
   "cell_type": "code",
   "execution_count": null,
   "id": "098b879a-7999-430e-be15-b4758619f07c",
   "metadata": {},
   "outputs": [],
   "source": []
  }
 ],
 "metadata": {
  "kernelspec": {
   "display_name": "Python 3 (ipykernel)",
   "language": "python",
   "name": "python3"
  },
  "language_info": {
   "codemirror_mode": {
    "name": "ipython",
    "version": 3
   },
   "file_extension": ".py",
   "mimetype": "text/x-python",
   "name": "python",
   "nbconvert_exporter": "python",
   "pygments_lexer": "ipython3",
   "version": "3.11.8"
  }
 },
 "nbformat": 4,
 "nbformat_minor": 5
}
