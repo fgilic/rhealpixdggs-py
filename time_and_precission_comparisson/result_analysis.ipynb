{
 "cells": [
  {
   "cell_type": "code",
   "execution_count": 1,
   "id": "8962850d-2b14-42d4-b199-aea7a908146a",
   "metadata": {
    "is_executing": true
   },
   "outputs": [],
   "source": [
    "import pandas as pd"
   ]
  },
  {
   "cell_type": "markdown",
   "id": "81b4a3f8-ae6d-4580-a10c-4cc43b85660f",
   "metadata": {},
   "source": [
    "Remove first line (outlier)"
   ]
  },
  {
   "cell_type": "code",
   "execution_count": 2,
   "id": "cc2f3229-4f16-4080-bc6c-ae8cd1a9e2c1",
   "metadata": {},
   "outputs": [],
   "source": [
    "results = pd.read_csv(\"accuracy_results.csv\").iloc[1:]"
   ]
  },
  {
   "cell_type": "code",
   "execution_count": 3,
   "id": "48246a2d-db01-4f14-8cce-c71541469471",
   "metadata": {},
   "outputs": [
    {
     "data": {
      "text/html": [
       "<div>\n",
       "<style scoped>\n",
       "    .dataframe tbody tr th:only-of-type {\n",
       "        vertical-align: middle;\n",
       "    }\n",
       "\n",
       "    .dataframe tbody tr th {\n",
       "        vertical-align: top;\n",
       "    }\n",
       "\n",
       "    .dataframe thead th {\n",
       "        text-align: right;\n",
       "    }\n",
       "</style>\n",
       "<table border=\"1\" class=\"dataframe\">\n",
       "  <thead>\n",
       "    <tr style=\"text-align: right;\">\n",
       "      <th></th>\n",
       "      <th>Common latitude</th>\n",
       "      <th>Authalic (direct mpmath)</th>\n",
       "      <th>Authalic (OLD)</th>\n",
       "      <th>Authalic (NEW)</th>\n",
       "      <th>Diff (auth OLD - auth NEW) E-12</th>\n",
       "      <th>Diff (auth OLD - auth direct mpmath) E-12</th>\n",
       "      <th>Diff (auth NEW - auth direct mpmath) E-12</th>\n",
       "      <th>Authalic inverse (OLD)</th>\n",
       "      <th>Authalic inverse (NEW)</th>\n",
       "      <th>Diff (auth inv OLD - auth inv NEW) E-12</th>\n",
       "      <th>Diff (auth inv OLD - common) E-12</th>\n",
       "      <th>Diff (auth inv NEW - common) E-12</th>\n",
       "    </tr>\n",
       "  </thead>\n",
       "  <tbody>\n",
       "    <tr>\n",
       "      <th>1</th>\n",
       "      <td>-89.9</td>\n",
       "      <td>-89.899551</td>\n",
       "      <td>-89.899551</td>\n",
       "      <td>-89.899551</td>\n",
       "      <td>-3.68</td>\n",
       "      <td>-3.680652</td>\n",
       "      <td>-0.000652</td>\n",
       "      <td>-89.9</td>\n",
       "      <td>-89.9</td>\n",
       "      <td>4.93</td>\n",
       "      <td>4.94</td>\n",
       "      <td>0.01</td>\n",
       "    </tr>\n",
       "    <tr>\n",
       "      <th>2</th>\n",
       "      <td>-89.8</td>\n",
       "      <td>-89.799103</td>\n",
       "      <td>-89.799103</td>\n",
       "      <td>-89.799103</td>\n",
       "      <td>-0.81</td>\n",
       "      <td>-0.798704</td>\n",
       "      <td>0.011296</td>\n",
       "      <td>-89.8</td>\n",
       "      <td>-89.8</td>\n",
       "      <td>9.89</td>\n",
       "      <td>9.88</td>\n",
       "      <td>-0.01</td>\n",
       "    </tr>\n",
       "    <tr>\n",
       "      <th>3</th>\n",
       "      <td>-89.7</td>\n",
       "      <td>-89.698654</td>\n",
       "      <td>-89.698654</td>\n",
       "      <td>-89.698654</td>\n",
       "      <td>4.02</td>\n",
       "      <td>4.019909</td>\n",
       "      <td>-0.000091</td>\n",
       "      <td>-89.7</td>\n",
       "      <td>-89.7</td>\n",
       "      <td>14.87</td>\n",
       "      <td>14.85</td>\n",
       "      <td>-0.02</td>\n",
       "    </tr>\n",
       "    <tr>\n",
       "      <th>4</th>\n",
       "      <td>-89.6</td>\n",
       "      <td>-89.598205</td>\n",
       "      <td>-89.598205</td>\n",
       "      <td>-89.598205</td>\n",
       "      <td>2.88</td>\n",
       "      <td>2.892189</td>\n",
       "      <td>0.012189</td>\n",
       "      <td>-89.6</td>\n",
       "      <td>-89.6</td>\n",
       "      <td>19.81</td>\n",
       "      <td>19.79</td>\n",
       "      <td>-0.02</td>\n",
       "    </tr>\n",
       "    <tr>\n",
       "      <th>5</th>\n",
       "      <td>-89.5</td>\n",
       "      <td>-89.497757</td>\n",
       "      <td>-89.497757</td>\n",
       "      <td>-89.497757</td>\n",
       "      <td>2.31</td>\n",
       "      <td>2.299545</td>\n",
       "      <td>-0.010455</td>\n",
       "      <td>-89.5</td>\n",
       "      <td>-89.5</td>\n",
       "      <td>24.73</td>\n",
       "      <td>24.73</td>\n",
       "      <td>0.00</td>\n",
       "    </tr>\n",
       "  </tbody>\n",
       "</table>\n",
       "</div>"
      ],
      "text/plain": [
       "   Common latitude  Authalic (direct mpmath)  Authalic (OLD)  Authalic (NEW)  \\\n",
       "1            -89.9                -89.899551      -89.899551      -89.899551   \n",
       "2            -89.8                -89.799103      -89.799103      -89.799103   \n",
       "3            -89.7                -89.698654      -89.698654      -89.698654   \n",
       "4            -89.6                -89.598205      -89.598205      -89.598205   \n",
       "5            -89.5                -89.497757      -89.497757      -89.497757   \n",
       "\n",
       "   Diff (auth OLD - auth NEW) E-12  Diff (auth OLD - auth direct mpmath) E-12  \\\n",
       "1                            -3.68                                  -3.680652   \n",
       "2                            -0.81                                  -0.798704   \n",
       "3                             4.02                                   4.019909   \n",
       "4                             2.88                                   2.892189   \n",
       "5                             2.31                                   2.299545   \n",
       "\n",
       "   Diff (auth NEW - auth direct mpmath) E-12  Authalic inverse (OLD)  \\\n",
       "1                                  -0.000652                   -89.9   \n",
       "2                                   0.011296                   -89.8   \n",
       "3                                  -0.000091                   -89.7   \n",
       "4                                   0.012189                   -89.6   \n",
       "5                                  -0.010455                   -89.5   \n",
       "\n",
       "   Authalic inverse (NEW)  Diff (auth inv OLD - auth inv NEW) E-12  \\\n",
       "1                   -89.9                                     4.93   \n",
       "2                   -89.8                                     9.89   \n",
       "3                   -89.7                                    14.87   \n",
       "4                   -89.6                                    19.81   \n",
       "5                   -89.5                                    24.73   \n",
       "\n",
       "   Diff (auth inv OLD - common) E-12  Diff (auth inv NEW - common) E-12  \n",
       "1                               4.94                               0.01  \n",
       "2                               9.88                              -0.01  \n",
       "3                              14.85                              -0.02  \n",
       "4                              19.79                              -0.02  \n",
       "5                              24.73                               0.00  "
      ]
     },
     "execution_count": 3,
     "metadata": {},
     "output_type": "execute_result"
    }
   ],
   "source": [
    "results.head()"
   ]
  },
  {
   "cell_type": "code",
   "execution_count": 4,
   "id": "23efc399-ab25-4998-ba50-b3152ba54188",
   "metadata": {},
   "outputs": [
    {
     "data": {
      "text/plain": [
       "Common latitude                              1800\n",
       "Authalic (direct mpmath)                     1800\n",
       "Authalic (OLD)                               1800\n",
       "Authalic (NEW)                               1800\n",
       "Diff (auth OLD - auth NEW) E-12              1800\n",
       "Diff (auth OLD - auth direct mpmath) E-12    1800\n",
       "Diff (auth NEW - auth direct mpmath) E-12    1800\n",
       "Authalic inverse (OLD)                       1800\n",
       "Authalic inverse (NEW)                       1800\n",
       "Diff (auth inv OLD - auth inv NEW) E-12      1800\n",
       "Diff (auth inv OLD - common) E-12            1800\n",
       "Diff (auth inv NEW - common) E-12            1800\n",
       "dtype: int64"
      ]
     },
     "execution_count": 4,
     "metadata": {},
     "output_type": "execute_result"
    }
   ],
   "source": [
    "results.count()"
   ]
  },
  {
   "cell_type": "code",
   "execution_count": 5,
   "id": "b60bf068-5c82-4d7c-b91e-97e74a10f2b8",
   "metadata": {},
   "outputs": [],
   "source": [
    "diff_auth_old = results[\"Diff (auth OLD - auth direct mpmath) E-12\"].abs().describe()*100"
   ]
  },
  {
   "cell_type": "code",
   "execution_count": 6,
   "id": "e7e80ef3-50e4-474b-b3fb-384c07a02e4c",
   "metadata": {
    "scrolled": true
   },
   "outputs": [
    {
     "data": {
      "text/plain": [
       "count    180000.000000\n",
       "mean          9.126783\n",
       "std          35.993332\n",
       "min           0.000000\n",
       "25%           0.955814\n",
       "50%           2.223584\n",
       "75%           5.600602\n",
       "max         886.990890\n",
       "Name: Diff (auth OLD - auth direct mpmath) E-12, dtype: float64"
      ]
     },
     "execution_count": 6,
     "metadata": {},
     "output_type": "execute_result"
    }
   ],
   "source": [
    "diff_auth_old"
   ]
  },
  {
   "cell_type": "code",
   "execution_count": 7,
   "id": "7eced509-8afe-4fa6-af19-076de9aac2bd",
   "metadata": {},
   "outputs": [],
   "source": [
    "diff_auth_new = results[\"Diff (auth NEW - auth direct mpmath) E-12\"].abs().describe()*100"
   ]
  },
  {
   "cell_type": "code",
   "execution_count": 8,
   "id": "da569bba-5e51-41e5-952e-bcdac203637f",
   "metadata": {},
   "outputs": [
    {
     "data": {
      "text/plain": [
       "count    180000.000000\n",
       "mean          0.440175\n",
       "std           0.451795\n",
       "min           0.000000\n",
       "25%           0.100668\n",
       "50%           0.290258\n",
       "75%           0.628154\n",
       "max           2.585454\n",
       "Name: Diff (auth NEW - auth direct mpmath) E-12, dtype: float64"
      ]
     },
     "execution_count": 8,
     "metadata": {},
     "output_type": "execute_result"
    }
   ],
   "source": [
    "diff_auth_new"
   ]
  },
  {
   "cell_type": "code",
   "execution_count": 9,
   "id": "2bc29cc1-8d5d-47c8-ba92-0372a7a91edb",
   "metadata": {},
   "outputs": [
    {
     "data": {
      "text/plain": [
       "count      1.000000\n",
       "mean      20.734424\n",
       "std       79.667386\n",
       "min             NaN\n",
       "25%        9.494757\n",
       "50%        7.660710\n",
       "75%        8.915966\n",
       "max      343.069653\n",
       "dtype: float64"
      ]
     },
     "execution_count": 9,
     "metadata": {},
     "output_type": "execute_result"
    }
   ],
   "source": [
    "diff_auth_old/diff_auth_new"
   ]
  },
  {
   "cell_type": "code",
   "execution_count": null,
   "id": "098b879a-7999-430e-be15-b4758619f07c",
   "metadata": {},
   "outputs": [],
   "source": []
  }
 ],
 "metadata": {
  "kernelspec": {
   "display_name": "Python 3 (ipykernel)",
   "language": "python",
   "name": "python3"
  },
  "language_info": {
   "codemirror_mode": {
    "name": "ipython",
    "version": 3
   },
   "file_extension": ".py",
   "mimetype": "text/x-python",
   "name": "python",
   "nbconvert_exporter": "python",
   "pygments_lexer": "ipython3",
   "version": "3.11.8"
  }
 },
 "nbformat": 4,
 "nbformat_minor": 5
}
